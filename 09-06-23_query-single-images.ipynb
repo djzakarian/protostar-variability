{
 "cells": [
  {
   "cell_type": "code",
   "execution_count": null,
   "id": "7c2e56db",
   "metadata": {},
   "outputs": [],
   "source": [
    "params = { 'coadd_id': '0293p696_ab41',\n",
    "           'band': 1,\n",
    "         }\n",
    "params['coaddgrp'] = params['coadd_id'][:2]\n",
    "params['coadd_ra'] = params['coadd_id'][:4]\n",
    "path = str.format(\n",
    "    '{coaddgrp:s}/{coadd_ra:s}/{coadd_id:s}/{coadd_id:s}-w{band:1d}-int-3.fits',\n",
    "    **params)\n",
    "url = 'https://irsa.ipac.caltech.edu/ibe/data/wise/allsky/4band_p3am_cdd/' + path"
   ]
  },
  {
   "cell_type": "code",
   "execution_count": null,
   "id": "51bd46be",
   "metadata": {},
   "outputs": [],
   "source": [
    "# metadata query: find all coadds containing the point... only in ALLWISE\n",
    "#  https://irsa.ipac.caltech.edu/ibe/search/wise/allwise/p3am_cdd?<parameters>  \n",
    "#ex: returns metadata for coadds containing (RA, Dec) = (39.00, 65.57) deg\n",
    "/ibe/search/wise/allwise/p3am_cdd?POS=39.00,65.57\n"
   ]
  },
  {
   "cell_type": "code",
   "execution_count": null,
   "id": "1b4bdcbd",
   "metadata": {},
   "outputs": [],
   "source": []
  },
  {
   "cell_type": "code",
   "execution_count": 3,
   "id": "6b00bf91",
   "metadata": {},
   "outputs": [],
   "source": [
    "import pyvo\n",
    "service = pyvo.dal.TAPService('https://irsa.ipac.caltech.edu/TAP')\n",
    "result = service.run_async(\"\"\"\n",
    "           SELECT *\n",
    "           FROM neowiser_p1bm_frm\n",
    "           WHERE CONTAINS(POINT('ICRS',ra, dec), CIRCLE('ICRS',69.974,26.0535,0.5))=1\n",
    "    \"\"\")\n",
    "tab = result.to_table()\n",
    "   "
   ]
  },
  {
   "cell_type": "code",
   "execution_count": 6,
   "id": "3fd0d454",
   "metadata": {},
   "outputs": [
    {
     "data": {
      "text/html": [
       "<i>Row index=0</i>\n",
       "<table id=\"table140457313700368\">\n",
       "<thead><tr><th>scan_id</th><th>scangrp</th><th>frame_num</th><th>band</th><th>naxis</th><th>naxis1</th><th>naxis2</th><th>wrelease</th><th>crpix1</th><th>crpix2</th><th>crval1</th><th>crval2</th><th>ctype1</th><th>ctype2</th><th>equinox</th><th>bunit</th><th>elon</th><th>elat</th><th>glon</th><th>glat</th><th>ra1</th><th>dec1</th><th>ra2</th><th>dec2</th><th>ra3</th><th>dec3</th><th>ra4</th><th>dec4</th><th>magzp</th><th>magzpunc</th><th>modeint</th><th>l0file</th><th>date_obs</th><th>mjd_obs</th><th>icaldir</th><th>unixt</th><th>ephemt</th><th>exptime</th><th>tsamp</th><th>wcdelt1</th><th>wcdelt2</th><th>crder1</th><th>crder2</th><th>csdradec</th><th>pxscal1</th><th>pxscal2</th><th>uncrts1</th><th>uncrts2</th><th>wcrota2</th><th>pa</th><th>uncrtpa</th><th>skew</th><th>cd1_1</th><th>cd1_2</th><th>cd2_1</th><th>cd2_2</th><th>debgain</th><th>febgain</th><th>moon_sep</th><th>saa_sep</th><th>qa_status</th><th>qual_frame</th><th>qc_fact</th><th>qi_fact</th><th>qn_fact</th><th>qa_fact</th><th>qual_scan</th><th>qs1_fact</th><th>qs5_fact</th><th>qp_fact</th><th>date_imgprep</th><th>cntr</th><th>x</th><th>y</th><th>z</th><th>spt_ind</th></tr></thead>\n",
       "<thead><tr><th></th><th></th><th></th><th></th><th></th><th></th><th></th><th></th><th>pix</th><th>pix</th><th>deg</th><th>deg</th><th></th><th></th><th>year</th><th></th><th>deg</th><th>deg</th><th>deg</th><th>deg</th><th>deg</th><th>deg</th><th>deg</th><th>deg</th><th>deg</th><th>deg</th><th>deg</th><th>deg</th><th>mag</th><th>mag</th><th>DN</th><th></th><th>datetimeZ</th><th>mjdate</th><th></th><th>s</th><th>s</th><th>s</th><th>s</th><th>deg / pix</th><th>deg / pix</th><th>deg</th><th>deg</th><th>deg</th><th>as / pix</th><th>as / pix</th><th>deg / pix</th><th>deg / pix</th><th>deg</th><th>deg</th><th>deg</th><th></th><th>deg / pix</th><th>deg / pix</th><th>deg / pix</th><th>deg / pix</th><th>e-/DEB ADU</th><th>e-/SUR ADU</th><th>deg</th><th>deg</th><th></th><th></th><th></th><th></th><th></th><th></th><th></th><th></th><th></th><th></th><th>datetimeZ</th><th></th><th></th><th></th><th></th><th></th></tr></thead>\n",
       "<thead><tr><th>object</th><th>object</th><th>int64</th><th>int64</th><th>int64</th><th>int64</th><th>int64</th><th>object</th><th>float32</th><th>float32</th><th>float64</th><th>float64</th><th>object</th><th>object</th><th>float32</th><th>object</th><th>float64</th><th>float64</th><th>float64</th><th>float64</th><th>float64</th><th>float64</th><th>float64</th><th>float64</th><th>float64</th><th>float64</th><th>float64</th><th>float64</th><th>float64</th><th>float64</th><th>float64</th><th>object</th><th>object</th><th>float64</th><th>object</th><th>float64</th><th>float64</th><th>float32</th><th>float32</th><th>float64</th><th>float64</th><th>float32</th><th>float32</th><th>float32</th><th>float64</th><th>float64</th><th>float32</th><th>float32</th><th>float64</th><th>float64</th><th>float64</th><th>float32</th><th>float64</th><th>float64</th><th>float64</th><th>float64</th><th>float64</th><th>float64</th><th>float32</th><th>float32</th><th>object</th><th>int64</th><th>float32</th><th>float32</th><th>float32</th><th>float32</th><th>int64</th><th>float32</th><th>float32</th><th>float32</th><th>object</th><th>int64</th><th>float64</th><th>float64</th><th>float64</th><th>int64</th></tr></thead>\n",
       "<tr><td>46517a</td><td>7a</td><td>132</td><td>1</td><td>2</td><td>1016</td><td>1016</td><td>release-v7.0</td><td>508.5</td><td>508.5</td><td>69.566203120105</td><td>26.281632766877</td><td>RA---SIN-SIP</td><td>DEC--SIN-SIP</td><td>2000.0</td><td>DN</td><td>71.708565872280</td><td>4.130601584606</td><td>173.400717262218</td><td>-13.658375212336</td><td>69.071504035685</td><td>26.608692371522</td><td>69.934341591633</td><td>26.719393981844</td><td>70.054918304823</td><td>25.954086455087</td><td>69.197030970664</td><td>25.841638002781</td><td>20.77150</td><td>-9.990000</td><td>31.989</td><td>/wise/fops/l0/neowiser/7a/46517a/fr/132/46517a132-w1-int-0.fits.gz</td><td>2014-02-27 17:15:49.866</td><td>56715.71932715</td><td>/wise/fops/cal/ifr_t/45902a001-49457a250</td><td>1393521349.86599</td><td>446793417.051639</td><td>7.7</td><td>1.1</td><td>-0.000766399360341291</td><td>0.000761737614363176</td><td>0.00000309326492</td><td>0.00000301884279</td><td>-0.00000064645218</td><td>-2.75903769722865</td><td>2.74225541170743</td><td>0.00000001012370</td><td>0.00000000826865</td><td>188.2077819470640</td><td>171.7922180529360</td><td>0.000515236322785485</td><td>0.0</td><td>0.000758549016604192</td><td>0.000108748224608587</td><td>0.000109413751148352</td><td>-0.000753935021590178</td><td>--</td><td>--</td><td>115.863</td><td>43.073</td><td>Reviewed</td><td>0</td><td>1.0</td><td>0.0</td><td>1.0</td><td>--</td><td>5</td><td>0.5</td><td>0.5</td><td>1.0</td><td>2014-06-26 16:07:19</td><td>132900018756</td><td>0.3130352696704840</td><td>0.8402091655214000</td><td>0.4427837825803460</td><td>230110110</td></tr>\n",
       "</table>"
      ],
      "text/plain": [
       "<Row index=0>\n",
       "scan_id scangrp frame_num  band naxis naxis1 naxis2   wrelease    crpix1  crpix2      crval1           crval2         ctype1       ctype2    equinox bunit        elon             elat             glon             glat             ra1              dec1             ra2              dec2             ra3              dec3             ra4              dec4         magzp    magzpunc  modeint                                 l0file                                       date_obs           mjd_obs                     icaldir                       unixt            ephemt      exptime  tsamp         wcdelt1               wcdelt2               crder1               crder2               csdradec            pxscal1           pxscal2            uncrts1              uncrts2             wcrota2               pa                uncrtpa          skew          cd1_1                 cd1_2                 cd2_1                 cd2_2          debgain    febgain   moon_sep saa_sep qa_status qual_frame qc_fact qi_fact qn_fact qa_fact qual_scan qs1_fact qs5_fact qp_fact     date_imgprep        cntr              x                   y                   z           spt_ind \n",
       "                                                                   pix     pix         deg              deg                                    year               deg              deg              deg              deg              deg              deg              deg              deg              deg              deg              deg              deg           mag       mag        DN                                                                               datetimeZ            mjdate                                                     s                s            s       s          deg / pix             deg / pix               deg                  deg                   deg               as / pix          as / pix          deg / pix            deg / pix              deg                deg                  deg                        deg / pix             deg / pix             deg / pix             deg / pix       e-/DEB ADU e-/SUR ADU   deg      deg                                                                                                 datetimeZ                                                                                        \n",
       " object  object   int64   int64 int64 int64  int64     object    float32 float32     float64          float64         object       object    float32 object     float64          float64          float64          float64          float64          float64          float64          float64          float64          float64          float64          float64       float64   float64   float64                                 object                                        object            float64                      object                      float64          float64      float32 float32        float64               float64              float32              float32               float32             float64           float64            float32              float32             float64            float64              float64        float32        float64               float64               float64               float64         float64    float64   float32  float32   object    int64    float32 float32 float32 float32   int64   float32  float32  float32        object          int64           float64             float64             float64         int64  \n",
       "------- ------- --------- ----- ----- ------ ------ ------------ ------- ------- ---------------- ---------------- ------------ ------------ ------- ------ ---------------- ---------------- ---------------- ---------------- ---------------- ---------------- ---------------- ---------------- ---------------- ---------------- ---------------- ---------------- --------- --------- ---------- ------------------------------------------------------------------ ----------------------- -------------- ---------------------------------------- ---------------- ---------------- ------- ------- --------------------- --------------------- -------------------- -------------------- --------------------- ----------------- ----------------- -------------------- -------------------- ------------------ ------------------ --------------------- ------- --------------------- --------------------- --------------------- --------------------- ---------- ---------- -------- ------- --------- ---------- ------- ------- ------- ------- --------- -------- -------- ------- ------------------- ------------ ------------------- ------------------- ------------------- ---------\n",
       " 46517a      7a       132     1     2   1016   1016 release-v7.0   508.5   508.5  69.566203120105  26.281632766877 RA---SIN-SIP DEC--SIN-SIP  2000.0     DN  71.708565872280   4.130601584606 173.400717262218 -13.658375212336  69.071504035685  26.608692371522  69.934341591633  26.719393981844  70.054918304823  25.954086455087  69.197030970664  25.841638002781  20.77150 -9.990000     31.989 /wise/fops/l0/neowiser/7a/46517a/fr/132/46517a132-w1-int-0.fits.gz 2014-02-27 17:15:49.866 56715.71932715 /wise/fops/cal/ifr_t/45902a001-49457a250 1393521349.86599 446793417.051639     7.7     1.1 -0.000766399360341291  0.000761737614363176     0.00000309326492     0.00000301884279     -0.00000064645218 -2.75903769722865  2.74225541170743     0.00000001012370     0.00000000826865  188.2077819470640  171.7922180529360  0.000515236322785485     0.0  0.000758549016604192  0.000108748224608587  0.000109413751148352 -0.000753935021590178         --         --  115.863  43.073  Reviewed          0     1.0     0.0     1.0      --         5      0.5      0.5     1.0 2014-06-26 16:07:19 132900018756  0.3130352696704840  0.8402091655214000  0.4427837825803460 230110110"
      ]
     },
     "execution_count": 6,
     "metadata": {},
     "output_type": "execute_result"
    }
   ],
   "source": [
    "tab[0]"
   ]
  },
  {
   "cell_type": "code",
   "execution_count": 7,
   "id": "bc0fe93f",
   "metadata": {},
   "outputs": [
    {
     "data": {
      "text/plain": [
       "<Table length=656>\n",
       "    name      dtype     unit      format                              description                             n_bad\n",
       "------------ ------- ---------- --------- ------------------------------------------------------------------- -----\n",
       "     scan_id  object                                                                                  scan ID     0\n",
       "     scangrp  object                                                                            scan group ID     0\n",
       "   frame_num   int64                                                                     frame number in scan     0\n",
       "        band   int64                                                                         WISE band number     0\n",
       "       naxis   int64                                                                      number of data axes     0\n",
       "      naxis1   int64                                                      number of pixels in x (data axis 1)     0\n",
       "      naxis2   int64                                                      number of pixels in y (data axis 2)     0\n",
       "    wrelease  object                                                         release version of WSDS pipeline     0\n",
       "      crpix1 float32        pix   {:6.1f}                                reference pixel value for axis 1 (x)     0\n",
       "      crpix2 float32        pix   {:6.1f}                                reference pixel value for axis 2 (y)     0\n",
       "      crval1 float64        deg {:16.12f}                        reference RA J2000 position at crpix1,crpix2     0\n",
       "      crval2 float64        deg {:16.12f}                       reference Dec J2000 position at crpix1,crpix2     0\n",
       "      ctype1  object                                         projection type (with distortion) for axis 1 (x)     0\n",
       "      ctype2  object                                         projection type (with distortion) for axis 2 (y)     0\n",
       "     equinox float32       year   {:6.1f}                                          equinox of WCS information     0\n",
       "       bunit  object                                                                          image data unit     0\n",
       "        elon float64        deg {:16.12f}                                 ecliptic longitude of crval1,crval2     0\n",
       "        elat float64        deg {:16.12f}                                  ecliptic latitude of crval1,crval2     0\n",
       "        glon float64        deg {:16.12f}                                 galactic longitude of crval1,crval2     0\n",
       "        glat float64        deg {:16.12f}                                  galactic latitude of crval1,crval2     0\n",
       "         ra1 float64        deg {:16.12f}              RA J2000 position at corner #1 (crpix1,crpix2=-.5,-.5)     0\n",
       "        dec1 float64        deg {:16.12f}             Dec J2000 position at corner #1 (crpix1,crpix2=-.5,-.5)     0\n",
       "         ra2 float64        deg {:16.12f}        RA J2000 position at corner #2 (crpix1,crpix2=naxis1+.5,-.5)     0\n",
       "        dec2 float64        deg {:16.12f}       Dec J2000 position at corner #2 (crpix1,crpix2=naxis1+.5,-.5)     0\n",
       "         ra3 float64        deg {:16.12f}  RA J2000 position at corner #3 (crpix1,crpix2=naxis1+.5,naxis1+.5)     0\n",
       "        dec3 float64        deg {:16.12f} Dec J2000 position at corner #3 (crpix1,crpix2=naxis1+.5,naxis1+.5)     0\n",
       "         ra4 float64        deg {:16.12f}        RA J2000 position at corner #4 (crpix1,crpix2=-.5,naxis1+.5)     0\n",
       "        dec4 float64        deg {:16.12f}       Dec J2000 position at corner #4 (crpix1,crpix2=-.5,naxis1+.5)     0\n",
       "       magzp float64        mag   {:9.5f}                                 relative photometric zero-point mag     0\n",
       "    magzpunc float64        mag   {:9.6f}                   1-sigma uncertainty in photometric zero-point mag     0\n",
       "     modeint float64         DN  {:10.3f}             mode of pixel DN in frame within lowest sigma partition     0\n",
       "      l0file  object                                                    corresponding level 0 image file name     0\n",
       "    date_obs  object  datetimeZ                          date and time of mid-point of frame observation, UTC     0\n",
       "     mjd_obs float64     mjdate  {:14.8f}         modified julian date of mid-point of frame observation, UTC     0\n",
       "     icaldir  object                                                              reference dir used for ICAL     0\n",
       "       unixt float64          s  {:16.5f}        UNIX date-time in sec of mid-point of frame observation, UTC     0\n",
       "      ephemt float64          s  {:16.6f}   ephemeris date-time in sec of mid-point of frame observation, UTC     0\n",
       "     exptime float32          s   {:4.1f}                                                 frame exposure time     0\n",
       "       tsamp float32          s   {:4.1f}    time interval between non-destructively read samples-up-the-ramp     0\n",
       "     wcdelt1 float64  deg / pix {:21.18f}                       deg/pix scale at crpix1,crpix2 for axis 1 (x)     0\n",
       "     wcdelt2 float64  deg / pix {:21.18f}                       deg/pix scale at crpix1,crpix2 for axis 2 (y)     0\n",
       "      crder1 float32        deg {:20.14f}                                          uncertainty in crval1 (RA)     0\n",
       "      crder2 float32        deg {:20.14f}                                         uncertainty in crval2 (Dec)     0\n",
       "    csdradec float32        deg {:21.14f}              costandard deviation in crval1 and crval2 (RA and Dec)     0\n",
       "     pxscal1 float64   as / pix {:17.14f}                    arcsec/pix scale at crpix1,crpix2 for axis 1 (x)     0\n",
       "     pxscal2 float64   as / pix {:17.14f}                    arcsec/pix scale at crpix1,crpix2 for axis 2 (y)     0\n",
       "     uncrts1 float32  deg / pix {:20.14f}                                              uncertainty in wcdelt1     0\n",
       "     uncrts2 float32  deg / pix {:20.14f}                                              uncertainty in wcdelt2     0\n",
       "     wcrota2 float64        deg {:18.13f}                                  image twist angle of +axis2 W of N     0\n",
       "          pa float64        deg {:18.13f}                                     position angle of +axis2 E of N     0\n",
       "     uncrtpa float64        deg {:21.18f}                                       uncertainty in position angle     0\n",
       "        skew float32              {:5.1f}                          measure of non-orthogonality of frame axes     0\n",
       "       cd1_1 float64  deg / pix {:21.18f}                                               CD matrix element 1_1     0\n",
       "       cd1_2 float64  deg / pix {:21.18f}                                               CD matrix element 1_2     0\n",
       "       cd2_1 float64  deg / pix {:21.18f}                                               CD matrix element 2_1     0\n",
       "       cd2_2 float64  deg / pix {:21.18f}                                               CD matrix element 2_2     0\n",
       "     debgain float64 e-/DEB ADU  {:10.3f}             digital electronics box gain (not available in neowise)   656\n",
       "     febgain float64 e-/SUR ADU  {:10.4f} flight electronics box gain for individ. (not available in neowise)   656\n",
       "    moon_sep float32        deg   {:7.3f}                                  distance from frame center to moon     0\n",
       "     saa_sep float32        deg   {:7.3f}                          distance from frame center to SAA boundary     0\n",
       "   qa_status  object                                           QA status for scan: Prelim, Reviewed, or Final     0\n",
       "  qual_frame   int64                                                            quality score value for frame     0\n",
       "     qc_fact float32              {:3.1f}               quality factor qc value for frame: completion quality     0\n",
       "     qi_fact float32              {:3.1f}                    quality factor qi value for frame: image quality     0\n",
       "     qn_fact float32              {:3.1f}                    quality factor qn value for frame: noise quality     0\n",
       "     qa_fact float32              {:3.1f}               quality factor qa value for frame: astrometry quality   656\n",
       "   qual_scan   int64                                                             quality score value for scan     0\n",
       "    qs1_fact float32              {:3.1f}            quality factor qs1 value for scan: 1x1 scansynch quality     0\n",
       "    qs5_fact float32              {:3.1f}            quality factor qs5 value for scan: 5x5 scansynch quality     0\n",
       "     qp_fact float32              {:3.1f}               quality factor qp value for scan: photometric quality     0\n",
       "date_imgprep  object  datetimeZ                                             date and time of imgprep run, UTC     0\n",
       "        cntr   int64                                                        unique entry counter (key) number     0\n",
       "           x float64            {:19.16f}                                unit sphere (x,y,z) position x value     0\n",
       "           y float64            {:19.16f}                                unit sphere (x,y,z) position y value     0\n",
       "           z float64            {:19.16f}                                unit sphere (x,y,z) position z value     0\n",
       "     spt_ind   int64                                                                spatial (x,y,z) index key     0"
      ]
     },
     "execution_count": 7,
     "metadata": {},
     "output_type": "execute_result"
    }
   ],
   "source": [
    "tab.info\n"
   ]
  },
  {
   "cell_type": "code",
   "execution_count": 29,
   "id": "eeb89932",
   "metadata": {},
   "outputs": [],
   "source": [
    "import pyvo\n",
    "service = pyvo.dal.TAPService('https://irsa.ipac.caltech.edu/TAP')\n",
    "result = service.search(\"\"\"\n",
    "           SELECT *\n",
    "           FROM wise.wise_allwise_p3am_cdd\n",
    "           WHERE CONTAINS(POINT('ICRS',crval1, crval2), CIRCLE('ICRS',69.974,26.0535,0.4))=1\n",
    "    \"\"\")\n",
    "tab = result.to_table()"
   ]
  },
  {
   "cell_type": "code",
   "execution_count": 30,
   "id": "8326e2e3",
   "metadata": {},
   "outputs": [
    {
     "data": {
      "text/html": [
       "<div><i>Table length=4</i>\n",
       "<table id=\"table140341630057744\" class=\"table-striped table-bordered table-condensed\">\n",
       "<thead><tr><th>band</th><th>naxis</th><th>naxis1</th><th>naxis2</th><th>wrelease</th><th>crpix1</th><th>crpix2</th><th>crval1</th><th>crval2</th><th>ctype1</th><th>ctype2</th><th>equinox</th><th>bunit</th><th>elon</th><th>elat</th><th>glon</th><th>glat</th><th>ra1</th><th>dec1</th><th>ra2</th><th>dec2</th><th>ra3</th><th>dec3</th><th>ra4</th><th>dec4</th><th>magzp</th><th>magzpunc</th><th>coadd_id</th><th>fcdate</th><th>date_obs1</th><th>mid_obs</th><th>date_obs2</th><th>sizex</th><th>sizey</th><th>pxscal1</th><th>pxscal2</th><th>moonrej</th><th>mooninp</th><th>medint</th><th>medcov</th><th>mincov</th><th>maxcov</th><th>lowcovpc1</th><th>lowcovpc2</th><th>nomcovpc</th><th>mincovpc</th><th>robsig</th><th>pixchis1</th><th>pixchis2</th><th>mednmsk</th><th>cdelt1</th><th>cdelt2</th><th>crota2</th><th>bitmask</th><th>numfrms</th><th>frac_exptime_8</th><th>frac_exptime_4</th><th>frac_exptime_2</th><th>frac_exptime_1</th><th>qa_status</th><th>qual_coadd</th><th>qc_fact</th><th>qi_fact</th><th>qa_fact</th><th>q1_fact</th><th>q2_fact</th><th>q3_fact</th><th>q4_fact</th><th>q5_fact</th><th>date_imgprep</th><th>load_id</th><th>cntr</th><th>x</th><th>y</th><th>z</th><th>spt_ind</th></tr></thead>\n",
       "<thead><tr><th></th><th></th><th></th><th></th><th></th><th>pix</th><th>pix</th><th>deg</th><th>deg</th><th></th><th></th><th>year</th><th></th><th>deg</th><th>deg</th><th>deg</th><th>deg</th><th>deg</th><th>deg</th><th>deg</th><th>deg</th><th>deg</th><th>deg</th><th>deg</th><th>deg</th><th>mag</th><th>mag</th><th></th><th>datetimeZ</th><th>datetimeZ</th><th>datetimeZ</th><th>datetimeZ</th><th>deg</th><th>deg</th><th>as / pix</th><th>as / pix</th><th></th><th></th><th>DN</th><th>pix</th><th>pix</th><th>pix</th><th></th><th></th><th></th><th></th><th>DN</th><th></th><th></th><th></th><th>deg / pix</th><th>deg / pix</th><th>deg</th><th></th><th></th><th></th><th></th><th></th><th></th><th></th><th></th><th></th><th></th><th></th><th></th><th></th><th></th><th></th><th></th><th>datetimeZ</th><th></th><th></th><th></th><th></th><th></th><th></th></tr></thead>\n",
       "<thead><tr><th>int32</th><th>int32</th><th>int32</th><th>int32</th><th>object</th><th>float64</th><th>float64</th><th>float64</th><th>float64</th><th>object</th><th>object</th><th>float64</th><th>object</th><th>float64</th><th>float64</th><th>float64</th><th>float64</th><th>float64</th><th>float64</th><th>float64</th><th>float64</th><th>float64</th><th>float64</th><th>float64</th><th>float64</th><th>float64</th><th>float64</th><th>object</th><th>object</th><th>object</th><th>object</th><th>object</th><th>float64</th><th>float64</th><th>float64</th><th>float64</th><th>int32</th><th>int32</th><th>float64</th><th>float64</th><th>float64</th><th>float64</th><th>float64</th><th>float64</th><th>float64</th><th>float64</th><th>float64</th><th>float64</th><th>float64</th><th>float64</th><th>float64</th><th>float64</th><th>float64</th><th>int32</th><th>int32</th><th>float64</th><th>float64</th><th>float64</th><th>float64</th><th>object</th><th>int32</th><th>float64</th><th>float64</th><th>float64</th><th>float64</th><th>float64</th><th>float64</th><th>float64</th><th>float64</th><th>object</th><th>int32</th><th>int64</th><th>float64</th><th>float64</th><th>float64</th><th>int32</th></tr></thead>\n",
       "<tr><td>4</td><td>2</td><td>4095</td><td>4095</td><td>release-v6.0</td><td>2048.0</td><td>2048.0</td><td>70.000375000000</td><td>25.745556000000</td><td>RA---SIN</td><td>DEC--SIN</td><td>2000.0</td><td>DN</td><td>72.021878165752</td><td>3.545881165575</td><td>174.081603493970</td><td>-13.702520526510</td><td>70.863428243497</td><td>24.960558525478</td><td>69.137743080692</td><td>24.960561024321</td><td>69.126308710049</td><td>26.525020150413</td><td>70.874868198208</td><td>26.525017618451</td><td>13.00000</td><td>0.012000</td><td>0700p257_ac51</td><td>2013-07-26 21:36:06</td><td>2010-02-22 05:46:19.105</td><td>2010-02-26 14:34:52.291</td><td>2010-02-27 20:45:14.981</td><td>1.564444</td><td>1.564444</td><td>1.375000</td><td>1.375000</td><td>0</td><td>5</td><td>269.652</td><td>11.785</td><td>7.413</td><td>14.150</td><td>0.000000</td><td>0.000000</td><td>0.005140</td><td>0.000000</td><td>0.128255</td><td>2.464725</td><td>2.473975</td><td>2737.0</td><td>-0.000381944439141100</td><td>0.000381944439141100</td><td>0.0000000000000</td><td>405273647</td><td>111</td><td>1.0</td><td>0.0</td><td>0.0</td><td>0.0</td><td>Prelim</td><td>10</td><td>1.0</td><td>1.0</td><td>1.0</td><td>--</td><td>--</td><td>--</td><td>--</td><td>--</td><td>2013-08-11 01:35:08</td><td>1040</td><td>48100</td><td>0.3080629251514930</td><td>0.8464131672608730</td><td>0.4343753957517880</td><td>230113221</td></tr>\n",
       "<tr><td>1</td><td>2</td><td>4095</td><td>4095</td><td>release-v6.0</td><td>2048.0</td><td>2048.0</td><td>70.000375000000</td><td>25.745556000000</td><td>RA---SIN</td><td>DEC--SIN</td><td>2000.0</td><td>DN</td><td>72.021878165752</td><td>3.545881165575</td><td>174.081603493970</td><td>-13.702520526510</td><td>70.863428243497</td><td>24.960558525478</td><td>69.137743080692</td><td>24.960561024321</td><td>69.126308710049</td><td>26.525020150413</td><td>70.874868198208</td><td>26.525017618451</td><td>20.50000</td><td>0.006000</td><td>0700p257_ac51</td><td>2013-07-26 20:00:32</td><td>2010-02-25 09:59:39.899</td><td>2010-09-04 16:38:25.617</td><td>2010-09-07 03:22:33.040</td><td>1.564444</td><td>1.564444</td><td>1.375000</td><td>1.375000</td><td>5</td><td>5</td><td>5.318</td><td>22.996</td><td>0.000</td><td>27.838</td><td>0.007603</td><td>0.010382</td><td>0.013525</td><td>0.000000</td><td>0.080356</td><td>1.493110</td><td>1.506350</td><td>40392.0</td><td>-0.000381944439141100</td><td>0.000381944439141100</td><td>0.0000000000000</td><td>405273647</td><td>223</td><td>1.0</td><td>0.0</td><td>0.0</td><td>0.0</td><td>Prelim</td><td>10</td><td>1.0</td><td>1.0</td><td>1.0</td><td>--</td><td>--</td><td>--</td><td>--</td><td>--</td><td>2013-08-11 01:35:08</td><td>1040</td><td>48097</td><td>0.3080629251514930</td><td>0.8464131672608730</td><td>0.4343753957517880</td><td>230113221</td></tr>\n",
       "<tr><td>2</td><td>2</td><td>4095</td><td>4095</td><td>release-v6.0</td><td>2048.0</td><td>2048.0</td><td>70.000375000000</td><td>25.745556000000</td><td>RA---SIN</td><td>DEC--SIN</td><td>2000.0</td><td>DN</td><td>72.021878165752</td><td>3.545881165575</td><td>174.081603493970</td><td>-13.702520526510</td><td>70.863428243497</td><td>24.960558525478</td><td>69.137743080692</td><td>24.960561024321</td><td>69.126308710049</td><td>26.525020150413</td><td>70.874868198208</td><td>26.525017618451</td><td>19.50000</td><td>0.007000</td><td>0700p257_ac51</td><td>2013-07-26 20:52:57</td><td>2010-02-25 09:59:39.899</td><td>2010-09-04 16:38:25.617</td><td>2010-09-07 03:22:33.040</td><td>1.564444</td><td>1.564444</td><td>1.375000</td><td>1.375000</td><td>5</td><td>5</td><td>11.312</td><td>23.393</td><td>0.000</td><td>27.924</td><td>0.005152</td><td>0.007186</td><td>0.009297</td><td>0.000000</td><td>0.068741</td><td>1.095171</td><td>1.097025</td><td>34237.0</td><td>-0.000381944439141100</td><td>0.000381944439141100</td><td>0.0000000000000</td><td>405273647</td><td>223</td><td>1.0</td><td>0.0</td><td>0.0</td><td>0.0</td><td>Prelim</td><td>10</td><td>1.0</td><td>1.0</td><td>1.0</td><td>--</td><td>--</td><td>--</td><td>--</td><td>--</td><td>2013-08-11 01:35:08</td><td>1040</td><td>48098</td><td>0.3080629251514930</td><td>0.8464131672608730</td><td>0.4343753957517880</td><td>230113221</td></tr>\n",
       "<tr><td>3</td><td>2</td><td>4095</td><td>4095</td><td>release-v6.0</td><td>2048.0</td><td>2048.0</td><td>70.000375000000</td><td>25.745556000000</td><td>RA---SIN</td><td>DEC--SIN</td><td>2000.0</td><td>DN</td><td>72.021878165752</td><td>3.545881165575</td><td>174.081603493970</td><td>-13.702520526510</td><td>70.863428243497</td><td>24.960558525478</td><td>69.137743080692</td><td>24.960561024321</td><td>69.126308710049</td><td>26.525020150413</td><td>70.874868198208</td><td>26.525017618451</td><td>18.00000</td><td>0.012000</td><td>0700p257_ac51</td><td>2013-07-26 21:19:29</td><td>2010-02-22 05:46:19.105</td><td>2010-02-26 14:34:41.286</td><td>2010-02-27 20:45:14.981</td><td>1.564444</td><td>1.564444</td><td>1.375000</td><td>1.375000</td><td>0</td><td>5</td><td>835.226</td><td>11.830</td><td>0.611</td><td>15.105</td><td>0.000877</td><td>0.001372</td><td>0.004037</td><td>0.000000</td><td>1.479121</td><td>2.922566</td><td>2.925036</td><td>6782.5</td><td>-0.000381944439141100</td><td>0.000381944439141100</td><td>0.0000000000000</td><td>413662255</td><td>112</td><td>1.0</td><td>0.0</td><td>0.0</td><td>0.0</td><td>Prelim</td><td>10</td><td>1.0</td><td>1.0</td><td>1.0</td><td>--</td><td>--</td><td>--</td><td>--</td><td>--</td><td>2013-08-11 01:35:08</td><td>1040</td><td>48099</td><td>0.3080629251514930</td><td>0.8464131672608730</td><td>0.4343753957517880</td><td>230113221</td></tr>\n",
       "</table></div>"
      ],
      "text/plain": [
       "<Table length=4>\n",
       " band naxis naxis1 naxis2 ...          y                   z           spt_ind \n",
       "                          ...                                                  \n",
       "int32 int32 int32  int32  ...       float64             float64         int32  \n",
       "----- ----- ------ ------ ... ------------------- ------------------- ---------\n",
       "    4     2   4095   4095 ...  0.8464131672608730  0.4343753957517880 230113221\n",
       "    1     2   4095   4095 ...  0.8464131672608730  0.4343753957517880 230113221\n",
       "    2     2   4095   4095 ...  0.8464131672608730  0.4343753957517880 230113221\n",
       "    3     2   4095   4095 ...  0.8464131672608730  0.4343753957517880 230113221"
      ]
     },
     "execution_count": 30,
     "metadata": {},
     "output_type": "execute_result"
    }
   ],
   "source": [
    "tab"
   ]
  },
  {
   "cell_type": "code",
   "execution_count": 37,
   "id": "a4acd481",
   "metadata": {},
   "outputs": [],
   "source": [
    "service = pyvo.dal.TAPService('https://irsa.ipac.caltech.edu/TAP')\n",
    "result = service.search(\"\"\"\n",
    "           SELECT TOP 5 *\n",
    "           FROM allsky_4band_p1bm_frm\n",
    "           WHERE CONTAINS(POINT('ICRS',crval1, crval2), CIRCLE('ICRS',69.974,26.0535,0.4))=1\n",
    "    \"\"\")\n",
    "tab = result.to_table()"
   ]
  },
  {
   "cell_type": "code",
   "execution_count": 38,
   "id": "a169a944",
   "metadata": {},
   "outputs": [
    {
     "data": {
      "text/html": [
       "<div><i>Table length=5</i>\n",
       "<table id=\"table140341628436368\" class=\"table-striped table-bordered table-condensed\">\n",
       "<thead><tr><th>scan_id</th><th>scangrp</th><th>frame_num</th><th>band</th><th>naxis</th><th>naxis1</th><th>naxis2</th><th>wrelease</th><th>crpix1</th><th>crpix2</th><th>crval1</th><th>crval2</th><th>ctype1</th><th>ctype2</th><th>equinox</th><th>bunit</th><th>elon</th><th>elat</th><th>glon</th><th>glat</th><th>ra1</th><th>dec1</th><th>ra2</th><th>dec2</th><th>ra3</th><th>dec3</th><th>ra4</th><th>dec4</th><th>magzp</th><th>magzpunc</th><th>modeint</th><th>l0file</th><th>date_obs</th><th>mjd_obs</th><th>dtanneal</th><th>utanneal</th><th>unixt</th><th>ephemt</th><th>exptime</th><th>tsamp</th><th>wcdelt1</th><th>wcdelt2</th><th>crder1</th><th>crder2</th><th>csdradec</th><th>pxscal1</th><th>pxscal2</th><th>uncrts1</th><th>uncrts2</th><th>wcrota2</th><th>pa</th><th>uncrtpa</th><th>skew</th><th>cd1_1</th><th>cd1_2</th><th>cd2_1</th><th>cd2_2</th><th>debgain</th><th>febgain</th><th>moon_sep</th><th>saa_sep</th><th>qual_frame</th><th>qc_fact</th><th>qi_fact</th><th>qn_fact</th><th>qa_fact</th><th>qual_scan</th><th>qs1_fact</th><th>qs5_fact</th><th>qp_fact</th><th>date_imgprep</th><th>cntr</th><th>x</th><th>y</th><th>z</th><th>spt_ind</th><th>htm20</th></tr></thead>\n",
       "<thead><tr><th></th><th></th><th></th><th></th><th></th><th></th><th></th><th></th><th>pix</th><th>pix</th><th>deg</th><th>deg</th><th></th><th></th><th>year</th><th></th><th>deg</th><th>deg</th><th>deg</th><th>deg</th><th>deg</th><th>deg</th><th>deg</th><th>deg</th><th>deg</th><th>deg</th><th>deg</th><th>deg</th><th>mag</th><th>mag</th><th>DN</th><th></th><th>datetimeZ</th><th>mjdate</th><th>s</th><th>datetimeZ</th><th>s</th><th>s</th><th>s</th><th>s</th><th>deg / pix</th><th>deg / pix</th><th>deg</th><th>deg</th><th>deg</th><th>as / pix</th><th>as / pix</th><th>deg / pix</th><th>deg / pix</th><th>deg</th><th>deg</th><th>deg</th><th></th><th>deg / pix</th><th>deg / pix</th><th>deg / pix</th><th>deg / pix</th><th>e-/DEB ADU</th><th>e-/SUR ADU</th><th>deg</th><th>deg</th><th></th><th></th><th></th><th></th><th></th><th></th><th></th><th></th><th></th><th>datetimeZ</th><th></th><th></th><th></th><th></th><th></th><th></th></tr></thead>\n",
       "<thead><tr><th>object</th><th>object</th><th>int64</th><th>int64</th><th>int64</th><th>int64</th><th>int64</th><th>object</th><th>float32</th><th>float32</th><th>float64</th><th>float64</th><th>object</th><th>object</th><th>float32</th><th>object</th><th>float64</th><th>float64</th><th>float64</th><th>float64</th><th>float64</th><th>float64</th><th>float64</th><th>float64</th><th>float64</th><th>float64</th><th>float64</th><th>float64</th><th>float64</th><th>float64</th><th>float64</th><th>object</th><th>object</th><th>float64</th><th>float64</th><th>object</th><th>float64</th><th>float64</th><th>float32</th><th>float32</th><th>float64</th><th>float64</th><th>float32</th><th>float32</th><th>float32</th><th>float64</th><th>float64</th><th>float32</th><th>float32</th><th>float64</th><th>float64</th><th>float64</th><th>float32</th><th>float64</th><th>float64</th><th>float64</th><th>float64</th><th>float64</th><th>float64</th><th>float32</th><th>float32</th><th>int64</th><th>float32</th><th>float32</th><th>float32</th><th>float32</th><th>int64</th><th>float32</th><th>float32</th><th>float32</th><th>object</th><th>int64</th><th>float64</th><th>float64</th><th>float64</th><th>int64</th><th>int64</th></tr></thead>\n",
       "<tr><td>02241a</td><td>1a</td><td>134</td><td>1</td><td>2</td><td>1016</td><td>1016</td><td>release-v3.2.3</td><td>508.5</td><td>508.5</td><td>69.708288023434</td><td>25.908910477294</td><td>RA---SIN-SIP</td><td>DEC--SIN-SIP</td><td>2000.0</td><td>DN</td><td>71.783398418172</td><td>3.743780677270</td><td>173.779155364028</td><td>-13.799993589856</td><td>69.215294609307</td><td>26.236134096092</td><td>70.075632509431</td><td>26.346410785854</td><td>70.195340884866</td><td>25.581255766624</td><td>69.339891403527</td><td>25.469256077500</td><td>20.75200</td><td>0.006000</td><td>29.816</td><td>/wise/fops/l0/1a/02241a/fr/134/02241a134-w1-int-0.fits.gz</td><td>2010-02-26 16:10:13.326</td><td>55253.67376535</td><td>5000.67729985714</td><td>2010-02-26 14:46:52.649</td><td>1267200613.32601</td><td>320472679.511641</td><td>7.7</td><td>1.1</td><td>-0.000766414500000000</td><td>0.000761407600000000</td><td>0.00000251501160</td><td>0.00000239444648</td><td>-0.00000005825412</td><td>-2.75909220000000</td><td>2.74106736000000</td><td>0.00000023000000</td><td>0.00000023000000</td><td>188.1750301395870</td><td>171.8249698604130</td><td>0.000458608135238860</td><td>0.0</td><td>0.000758626422324862</td><td>0.000108270310103139</td><td>0.000108982279113765</td><td>-0.000753670400963133</td><td>3.750</td><td>5.7400</td><td>58.715</td><td>46.416</td><td>10</td><td>1.0</td><td>1.0</td><td>1.0</td><td>--</td><td>5</td><td>1.0</td><td>0.5</td><td>1.0</td><td>2011-05-16 15:11:01</td><td>1678966</td><td>0.3119430570898740</td><td>0.8436666981812990</td><td>0.4369416797620570</td><td>230110112</td><td>16580075465360</td></tr>\n",
       "<tr><td>02241a</td><td>1a</td><td>134</td><td>2</td><td>2</td><td>1016</td><td>1016</td><td>release-v3.2.3</td><td>508.5</td><td>508.5</td><td>69.708465660776</td><td>25.908379384859</td><td>RA---SIN-SIP</td><td>DEC--SIN-SIP</td><td>2000.0</td><td>DN</td><td>71.783483428628</td><td>3.743232595232</td><td>173.779680488522</td><td>-13.800211591965</td><td>69.214675955486</td><td>26.237258532520</td><td>70.080653998039</td><td>26.344777052516</td><td>70.196308808353</td><td>25.579259950416</td><td>69.335493004925</td><td>25.469788185827</td><td>19.59600</td><td>0.007000</td><td>60.782</td><td>/wise/fops/l0/1a/02241a/fr/134/02241a134-w2-int-0.fits.gz</td><td>2010-02-26 16:10:13.326</td><td>55253.67376535</td><td>5000.67729985714</td><td>2010-02-26 14:46:52.649</td><td>1267200613.32601</td><td>320472679.511641</td><td>7.7</td><td>1.1</td><td>-0.000770804300000000</td><td>0.000761258900000000</td><td>0.00078567821765</td><td>0.00078567786841</td><td>0.00000000000000</td><td>-2.77489548000000</td><td>2.74053204000000</td><td>0.00000076305730</td><td>0.00000075360788</td><td>187.9293912506980</td><td>172.0706087493020</td><td>0.117852022512601004</td><td>0.0</td><td>0.000763434507067787</td><td>0.000105017670127415</td><td>0.000106334483196444</td><td>-0.000753980372284464</td><td>4.600</td><td>6.8600</td><td>58.715</td><td>46.416</td><td>10</td><td>1.0</td><td>1.0</td><td>1.0</td><td>--</td><td>5</td><td>1.0</td><td>0.5</td><td>1.0</td><td>2011-05-16 15:11:01</td><td>1678967</td><td>0.3119418459871230</td><td>0.8436714640728060</td><td>0.4369333420916680</td><td>230110112</td><td>16580075465454</td></tr>\n",
       "<tr><td>02241a</td><td>1a</td><td>134</td><td>4</td><td>2</td><td>508</td><td>508</td><td>release-v3.2.3</td><td>254.5</td><td>254.5</td><td>69.709121258247</td><td>25.908926439092</td><td>RA---SIN-SIP</td><td>DEC--SIN-SIP</td><td>2000.0</td><td>DN</td><td>71.784144506909</td><td>3.743692875795</td><td>173.779637697894</td><td>-13.799408290006</td><td>69.213734297871</td><td>26.241157245747</td><td>70.076426248091</td><td>26.351283270566</td><td>70.196893009217</td><td>25.577069538753</td><td>69.340571142959</td><td>25.465085932753</td><td>12.94500</td><td>0.012000</td><td>1029.506</td><td>/wise/fops/l0/1a/02241a/fr/134/02241a134-w4-int-0.fits.gz</td><td>2010-02-26 16:10:13.326</td><td>55253.67376535</td><td>5000.67729985714</td><td>2010-02-26 14:46:52.649</td><td>1267200613.32601</td><td>320472679.511641</td><td>8.8</td><td>1.1</td><td>-0.001534042000000000</td><td>0.001539288100000000</td><td>0.00078567821765</td><td>0.00078567786841</td><td>0.00000000000000</td><td>-5.52255120000000</td><td>5.54143716000000</td><td>0.00000151862412</td><td>0.00000152381745</td><td>188.1592801395870</td><td>171.8407198604130</td><td>0.117852022512601004</td><td>0.0</td><td>0.001518513424682850</td><td>0.000218464184129460</td><td>0.000217719628931273</td><td>-0.001523706420231360</td><td>4.730</td><td>8.8600</td><td>58.715</td><td>46.416</td><td>10</td><td>1.0</td><td>1.0</td><td>1.0</td><td>--</td><td>5</td><td>1.0</td><td>0.5</td><td>1.0</td><td>2011-05-16 15:11:01</td><td>1678969</td><td>0.3119307456600010</td><td>0.8436711204115120</td><td>0.4369419303472480</td><td>230110112</td><td>16580075465696</td></tr>\n",
       "<tr><td>02241a</td><td>1a</td><td>134</td><td>3</td><td>2</td><td>1016</td><td>1016</td><td>release-v3.2.3</td><td>508.5</td><td>508.5</td><td>69.708431053412</td><td>25.907741087521</td><td>RA---SIN-SIP</td><td>DEC--SIN-SIP</td><td>2000.0</td><td>DN</td><td>71.783364103703</td><td>3.742604729994</td><td>173.780164240280</td><td>-13.800644827860</td><td>69.218626385100</td><td>26.240863783334</td><td>70.080422994950</td><td>26.344355721003</td><td>70.191664188238</td><td>25.574393266527</td><td>69.335882836190</td><td>25.469329845937</td><td>17.80000</td><td>0.012000</td><td>2776.539</td><td>/wise/fops/l0/1a/02241a/fr/134/02241a134-w3-int-0.fits.gz</td><td>2010-02-26 16:10:13.326</td><td>55253.67376535</td><td>5000.67729985714</td><td>2010-02-26 14:46:52.649</td><td>1267200613.32601</td><td>320472679.511641</td><td>8.8</td><td>1.1</td><td>-0.000766244900000000</td><td>0.000764998300000000</td><td>0.00078567821765</td><td>0.00078567786841</td><td>0.00000000000000</td><td>-2.75848164000000</td><td>2.75399388000000</td><td>0.00000075854376</td><td>0.00000075730969</td><td>187.6458912506980</td><td>172.3541087493020</td><td>0.117852022512601004</td><td>0.0</td><td>0.000759432439654883</td><td>0.000101783226714496</td><td>0.000101949087175130</td><td>-0.000758196922812587</td><td>6.830</td><td>12.8300</td><td>58.715</td><td>46.416</td><td>10</td><td>1.0</td><td>1.0</td><td>1.0</td><td>--</td><td>5</td><td>1.0</td><td>0.5</td><td>1.0</td><td>2011-05-16 15:11:01</td><td>1678968</td><td>0.3119440436307020</td><td>0.8436758411275740</td><td>0.4369233213517080</td><td>230110112</td><td>16580075467207</td></tr>\n",
       "<tr><td>02226b</td><td>6b</td><td>159</td><td>3</td><td>2</td><td>1016</td><td>1016</td><td>release-v3.2.3</td><td>508.5</td><td>508.5</td><td>69.613076709101</td><td>26.026345646681</td><td>RA---SIN-SIP</td><td>DEC--SIN-SIP</td><td>2000.0</td><td>DN</td><td>71.714746076529</td><td>3.871943995039</td><td>173.629853919954</td><td>-13.790260031618</td><td>69.122503429721</td><td>26.359146328804</td><td>69.985099887923</td><td>26.463198921830</td><td>70.097057301192</td><td>25.693307008157</td><td>69.240510862273</td><td>25.587690400249</td><td>17.80000</td><td>0.012000</td><td>2776.295</td><td>/wise/fops/l0/6b/02226b/fr/159/02226b159-w3-int-0.fits.gz</td><td>2010-02-26 05:03:19.081</td><td>55253.21063751</td><td>10338.29674714800</td><td>2010-02-26 02:11:00.784</td><td>1267160599.08101</td><td>320432665.266079</td><td>8.8</td><td>1.1</td><td>-0.000766244900000000</td><td>0.000764998300000000</td><td>0.00078567850869</td><td>0.00078567804303</td><td>0.00000000000000</td><td>-2.75848164000000</td><td>2.75399388000000</td><td>0.00000075854376</td><td>0.00000075730969</td><td>187.6871960278070</td><td>172.3128039721930</td><td>0.117852184607235996</td><td>0.0</td><td>0.000759358746780391</td><td>0.000102329787684015</td><td>0.000102496538790948</td><td>-0.000758123349828664</td><td>6.830</td><td>12.8300</td><td>51.777</td><td>102.397</td><td>10</td><td>1.0</td><td>1.0</td><td>1.0</td><td>--</td><td>5</td><td>1.0</td><td>0.5</td><td>1.0</td><td>2011-05-16 15:10:23</td><td>1665664</td><td>0.3130319529844070</td><td>0.8423059196074379</td><td>0.4387843823622670</td><td>230110112</td><td>16580083265570</td></tr>\n",
       "</table></div>"
      ],
      "text/plain": [
       "<Table length=5>\n",
       "scan_id scangrp frame_num ...          z           spt_ind      htm20     \n",
       "                          ...                                             \n",
       " object  object   int64   ...       float64         int64       int64     \n",
       "------- ------- --------- ... ------------------- --------- --------------\n",
       " 02241a      1a       134 ...  0.4369416797620570 230110112 16580075465360\n",
       " 02241a      1a       134 ...  0.4369333420916680 230110112 16580075465454\n",
       " 02241a      1a       134 ...  0.4369419303472480 230110112 16580075465696\n",
       " 02241a      1a       134 ...  0.4369233213517080 230110112 16580075467207\n",
       " 02226b      6b       159 ...  0.4387843823622670 230110112 16580083265570"
      ]
     },
     "execution_count": 38,
     "metadata": {},
     "output_type": "execute_result"
    }
   ],
   "source": [
    "tab"
   ]
  },
  {
   "cell_type": "code",
   "execution_count": null,
   "id": "c48431e1",
   "metadata": {},
   "outputs": [],
   "source": []
  }
 ],
 "metadata": {
  "kernelspec": {
   "display_name": "Python 3 (ipykernel)",
   "language": "python",
   "name": "python3"
  },
  "language_info": {
   "codemirror_mode": {
    "name": "ipython",
    "version": 3
   },
   "file_extension": ".py",
   "mimetype": "text/x-python",
   "name": "python",
   "nbconvert_exporter": "python",
   "pygments_lexer": "ipython3",
   "version": "3.7.16"
  }
 },
 "nbformat": 4,
 "nbformat_minor": 5
}
